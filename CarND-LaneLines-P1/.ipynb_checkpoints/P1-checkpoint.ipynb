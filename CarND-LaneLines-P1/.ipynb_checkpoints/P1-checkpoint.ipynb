{
 "cells": [
  {
   "cell_type": "markdown",
   "metadata": {},
   "source": [
    "# **Finding Lane Lines on the Road** \n",
    "***\n",
    "In this project, you will use the tools you learned about in the lesson to identify lane lines on the road.  You can develop your pipeline on a series of individual images, and later apply the result to a video stream (really just a series of images). Check out the video clip \"raw-lines-example.mp4\" (also contained in this repository) to see what the output should look like after using the helper functions below. \n",
    "\n",
    "Once you have a result that looks roughly like \"raw-lines-example.mp4\", you'll need to get creative and try to average and/or extrapolate the line segments you've detected to map out the full extent of the lane lines.  You can see an example of the result you're going for in the video \"P1_example.mp4\".  Ultimately, you would like to draw just one line for the left side of the lane, and one for the right.\n",
    "\n",
    "---\n",
    "Let's have a look at our first image called 'test_images/solidWhiteRight.jpg'.  Run the 2 cells below (hit Shift-Enter or the \"play\" button above) to display the image.\n",
    "\n",
    "**Note** If, at any point, you encounter frozen display windows or other confounding issues, you can always start again with a clean slate by going to the \"Kernel\" menu above and selecting \"Restart & Clear Output\".\n",
    "\n",
    "---"
   ]
  },
  {
   "cell_type": "markdown",
   "metadata": {},
   "source": [
    "**The tools you have are color selection, region of interest selection, grayscaling, Gaussian smoothing, Canny Edge Detection and Hough Tranform line detection.  You  are also free to explore and try other techniques that were not presented in the lesson.  Your goal is piece together a pipeline to detect the line segments in the image, then average/extrapolate them and draw them onto the image for display (as below).  Once you have a working pipeline, try it out on the video stream below.**\n",
    "\n",
    "---\n",
    "\n",
    "<figure>\n",
    " <img src=\"line-segments-example.jpg\" width=\"380\" alt=\"Combined Image\" />\n",
    " <figcaption>\n",
    " <p></p> \n",
    " <p style=\"text-align: center;\"> Your output should look something like this (above) after detecting line segments using the helper functions below </p> \n",
    " </figcaption>\n",
    "</figure>\n",
    " <p></p> \n",
    "<figure>\n",
    " <img src=\"laneLines_thirdPass.jpg\" width=\"380\" alt=\"Combined Image\" />\n",
    " <figcaption>\n",
    " <p></p> \n",
    " <p style=\"text-align: center;\"> Your goal is to connect/average/extrapolate line segments to get output like this</p> \n",
    " </figcaption>\n",
    "</figure>"
   ]
  },
  {
   "cell_type": "code",
   "execution_count": 1,
   "metadata": {
    "collapsed": false
   },
   "outputs": [],
   "source": [
    "#importing some useful packages\n",
    "import matplotlib.pyplot as plt\n",
    "import matplotlib.image as mpimg\n",
    "import numpy as np\n",
    "import cv2\n",
    "%matplotlib inline"
   ]
  },
  {
   "cell_type": "code",
   "execution_count": null,
   "metadata": {
    "collapsed": false
   },
   "outputs": [],
   "source": [
    "#reading in an image\n",
    "\n",
    "image = mpimg.imread('test_imaged/solidWhiteRight.jpg')\n",
    "#printing out some stats and plotting\n",
    "print('This image is:', type(image), 'with dimesions:', image.shape)\n",
    "plt.imshow(image)  #call as plt.imshow(gray, cmap='gray') to show a grayscaled image"
   ]
  },
  {
   "cell_type": "markdown",
   "metadata": {},
   "source": [
    "**Some OpenCV functions (beyond those introduced in the lesson) that might be useful for this project are:**\n",
    "\n",
    "`cv2.inRange()` for color selection  \n",
    "`cv2.fillPoly()` for regions selection  \n",
    "`cv2.line()` to draw lines on an image given endpoints  \n",
    "`cv2.addWeighted()` to coadd / overlay two images\n",
    "`cv2.cvtColor()` to grayscale or change color\n",
    "`cv2.imwrite()` to output images to file  \n",
    "`cv2.bitwise_and()` to apply a mask to an image\n",
    "\n",
    "**Check out the OpenCV documentation to learn about these and discover even more awesome functionality!**"
   ]
  },
  {
   "cell_type": "markdown",
   "metadata": {},
   "source": [
    "Below are some helper functions to help get you started. They should look familiar from the lesson!"
   ]
  },
  {
   "cell_type": "code",
   "execution_count": 2,
   "metadata": {
    "collapsed": false
   },
   "outputs": [],
   "source": [
    "import math\n",
    "\n",
    "def filter_white(img):\n",
    "    # define white color range\n",
    "    lower_white = np.array([180,180,180])\n",
    "    upper_white = np.array([255,255,255])\n",
    "\n",
    "    # Threshold the image to get desired colors\n",
    "    white = cv2.inRange(img, lower_white, upper_white)\n",
    "    \n",
    "    return white\n",
    "\n",
    "def filter_yellow(img):\n",
    "    # define yellow color range\n",
    "    lower_yellow = np.array([170,140,0])\n",
    "    upper_yellow = np.array([255,220,140])\n",
    "    \n",
    "    yellow = cv2.inRange(img, lower_yellow, upper_yellow)\n",
    "    \n",
    "    return yellow\n",
    "    \n",
    "def grayscale(img):\n",
    "    \"\"\"Applies the Grayscale transform\n",
    "    This will return an image with only one color channel\n",
    "    but NOTE: to see the returned image as grayscale\n",
    "    you should call plt.imshow(gray, cmap='gray')\"\"\"\n",
    "    return cv2.cvtColor(img, cv2.COLOR_BGR2GRAY)\n",
    "    \n",
    "def canny(img, low_threshold, high_threshold):\n",
    "    \"\"\"Applies the Canny transform\"\"\"\n",
    "    return cv2.Canny(img, low_threshold, high_threshold)\n",
    "\n",
    "def gaussian_blur(img, kernel_size):\n",
    "    \"\"\"Applies a Gaussian Noise kernel\"\"\"\n",
    "    return cv2.GaussianBlur(img, (kernel_size, kernel_size), 0)\n",
    "\n",
    "def region_of_interest(img, vertices):\n",
    "    \"\"\"\n",
    "    Applies an image mask.\n",
    "    \n",
    "    Only keeps the region of the image defined by the polygon\n",
    "    formed from `vertices`. The rest of the image is set to black.\n",
    "    \"\"\"\n",
    "    #defining a blank mask to start with\n",
    "    mask = np.zeros_like(img)   \n",
    "    \n",
    "    #defining a 3 channel or 1 channel color to fill the mask with depending on the input image\n",
    "    if len(img.shape) > 2:\n",
    "        channel_count = img.shape[2]  # i.e. 3 or 4 depending on your image\n",
    "        ignore_mask_color = (255,) * channel_count\n",
    "    else:\n",
    "        ignore_mask_color = 255\n",
    "        \n",
    "    #filling pixels inside the polygon defined by \"vertices\" with the fill color    \n",
    "    cv2.fillPoly(mask, vertices, ignore_mask_color)\n",
    "    \n",
    "    #returning the image only where mask pixels are nonzero\n",
    "    masked_image = cv2.bitwise_and(img, mask)\n",
    "    return masked_image\n",
    "\n",
    "def find_endpoints(img, line_params):\n",
    "    \n",
    "    invalid = [np.nan, np.nan, np.nan, np.nan]\n",
    "    if (np.any(np.isnan(line_params))):\n",
    "        return invalid\n",
    "    \n",
    "    # filter out noise lines which have -0.5 < slope < 0 or 0 < slope < 0.5\n",
    "    line_params_valid = np.array([], dtype = np.float64).reshape(0, 2)\n",
    "    for line_param in line_params:\n",
    "        if ((line_param[0] < 0 and line_param[0] > -0.5) or (line_param[0] > 0 and line_param[0] < 0.5) ):\n",
    "            continue\n",
    "        line_params_valid = np.vstack((line_params_valid, line_param))\n",
    "    \n",
    "    if (np.any(np.isnan(line_params_valid))):\n",
    "        return invalid\n",
    "    \n",
    "    # get the median slope and y intersection of all the filtered line parameters\n",
    "    median_line_param = np.median(line_params_valid, axis=0)\n",
    "\n",
    "    # Get rid of outliers\n",
    "    valid_line_params = np.array([], dtype = np.float64).reshape(0, 2)\n",
    "    k_threshold = 0.1\n",
    "    for line_param in line_params:\n",
    "        if (median_line_param[0] == 0):\n",
    "            return invalid\n",
    "        if (abs((line_param[0] - median_line_param[0])/median_line_param[0])) < k_threshold:\n",
    "            valid_line_params = np.vstack((valid_line_params, line_param))\n",
    "    \n",
    "    # Average all line parameters\n",
    "    final_line_param = np.average(valid_line_params, axis=0)\n",
    "    \n",
    "    # If there is no line exists, return empty\n",
    "    if (np.isnan(final_line_param[0]) or np.isnan(final_line_param[1])):\n",
    "        return invalid\n",
    "    \n",
    "    # Extrapolate the line\n",
    "    imshape = img.shape\n",
    "    y1 = int(imshape[0])\n",
    "    x1 = int((y1 - final_line_param[1])/final_line_param[0])\n",
    "\n",
    "    y2 = int(imshape[0]* 0.59)\n",
    "    x2 = int((y2 - final_line_param[1])/final_line_param[0])\n",
    "    \n",
    "    return [x1, y1, x2, y2]\n",
    "\n",
    "\n",
    "def draw_lines(img, lines, color=[255, 0, 0], thickness=8):\n",
    "    \"\"\"\n",
    "    NOTE: this is the function you might want to use as a starting point once you want to \n",
    "    average/extrapolate the line segments you detect to map out the full\n",
    "    extent of the lane (going from the result shown in raw-lines-example.mp4\n",
    "    to that shown in P1_example.mp4).  \n",
    "    \n",
    "    Think about things like separating line segments by their \n",
    "    slope ((y2-y1)/(x2-x1)) to decide which segments are part of the left\n",
    "    line vs. the right line.  Then, you can average the position of each of \n",
    "    the lines and extrapolate to the top and bottom of the lane.\n",
    "    \n",
    "    This function draws `lines` with `color` and `thickness`.    \n",
    "    Lines are drawn on the image inplace (mutates the image).\n",
    "    If you want to make the lines semi-transparent, think about combining\n",
    "    this function with the weighted_img() function below\n",
    "    \"\"\"\n",
    "    \n",
    "    if (lines == None):\n",
    "        return\n",
    "    \n",
    "    # Calculate slope and y intersection of all lines found by hough transform\n",
    "    line_params_l = np.array([], dtype = np.float64).reshape(0, 2)\n",
    "    line_params_r = np.array([], dtype = np.float64).reshape(0, 2)\n",
    "    \n",
    "    for line in lines:\n",
    "        for x1,y1,x2,y2 in line:\n",
    "            if (x1 == x2):\n",
    "                break\n",
    "            k = (y1 - y2) / (x1 - x2)\n",
    "            b = y1 - k * x1\n",
    "            current = np.array([k, b])\n",
    "            if k < 0:\n",
    "                line_params_l = np.vstack((line_params_l, current))\n",
    "            elif k > 0:\n",
    "                line_params_r = np.vstack((line_params_r, current))\n",
    "                \n",
    "    [lx1, ly1, lx2, ly2] = find_endpoints(img, line_params_l)\n",
    "    [rx1, ry1, rx2, ry2] = find_endpoints(img, line_params_r)\n",
    "    \n",
    "    # Draw lines to original image if any\n",
    "    if (~np.isnan(lx1) and ~np.isnan(ly1) and ~np.isnan(lx2) and ~np.isnan(ly2)):\n",
    "        cv2.line(img, (lx1, ly1), (lx2, ly2), color, thickness)\n",
    "    if (~np.isnan(rx1) and ~np.isnan(ry1) and ~np.isnan(rx2) and ~np.isnan(ry2)):\n",
    "        cv2.line(img, (rx1, ry1), (rx2, ry2), color, thickness)\n",
    "    \n",
    "\n",
    "def hough_lines(img, rho, theta, threshold, min_line_len, max_line_gap):\n",
    "    \"\"\"\n",
    "    `img` should be the output of a Canny transform.\n",
    "        \n",
    "    Returns an image with hough lines drawn.\n",
    "    \"\"\"\n",
    "    lines = cv2.HoughLinesP(img, rho, theta, threshold, np.array([]), minLineLength=min_line_len, maxLineGap=max_line_gap)\n",
    "    line_img = np.zeros((*img.shape, 3), dtype=np.uint8)\n",
    "    draw_lines(line_img, lines)\n",
    "    return line_img\n",
    "\n",
    "# Python 3 has support for cool math symbols.\n",
    "\n",
    "def weighted_img(img, initial_img, α=0.8, β=1., λ=0.):\n",
    "    \"\"\"\n",
    "    `img` is the output of the hough_lines(), An image with lines drawn on it.\n",
    "    Should be a blank image (all black) with lines drawn on it.\n",
    "    \n",
    "    `initial_img` should be the image before any processing.\n",
    "    \n",
    "    The result image is computed as follows:\n",
    "    \n",
    "    initial_img * α + img * β + λ\n",
    "    NOTE: initial_img and img must be the same shape!\n",
    "    \"\"\"\n",
    "    return cv2.addWeighted(initial_img, α, img, β, λ)"
   ]
  },
  {
   "cell_type": "code",
   "execution_count": null,
   "metadata": {
    "collapsed": false
   },
   "outputs": [],
   "source": [
    "#importing some useful packages\n",
    "import matplotlib.pyplot as plt\n",
    "import matplotlib.image as mpimg\n",
    "import numpy as np\n",
    "import cv2\n",
    "%matplotlib inline\n",
    "\n",
    "\n",
    "#reading in an image\n",
    "image = mpimg.imread('solidWhiteRight.jpg')\n",
    "\n",
    "# Convert image into hsv space\n",
    "hsv = cv2.cvtColor(image, cv2.COLOR_BGR2HSV)\n",
    "\n",
    "# Get yellow and white mask\n",
    "color_mask_white = filter_white(image)\n",
    "color_mask_yellow = filter_yellow(image)\n",
    "color_mask = cv2.bitwise_or(color_mask_white, color_mask_yellow)\n",
    "\n",
    "#printing out some stats and plotting\n",
    "print('This image is:', type(image), 'with dimesions:', image.shape)\n",
    "#plt.imshow(image)  #call as plt.imshow(gray, cmap='gray') to show a grayscaled image\n",
    "\n",
    "# get v channel\n",
    "gray_v = hsv[:, :, 2]\n",
    "imshape = image.shape\n",
    "\n",
    "# Gaussian Blur\n",
    "kernel_size = 5\n",
    "blur_gray_v = gaussian_blur(gray_v, kernel_size)\n",
    "\n",
    "# Detect Canny edge\n",
    "low_threshold = 60\n",
    "high_threshold = 150\n",
    "edges_v = canny(gray_v, low_threshold, high_threshold) \n",
    "\n",
    "# Define region of interest for left lane, because camera angle is fixed\n",
    "vertices = np.array([[(0,imshape[0]),(imshape[1]/2 - 2, imshape[0]* 0.59), (imshape[1]/2 + 2, imshape[0]* 0.59),(imshape[1], imshape[0])]], dtype=np.int32)\n",
    "masked_im_v = region_of_interest(edges_v, vertices)\n",
    "\n",
    "# Filter out non white and yellow regions\n",
    "masked_img_v = cv2.bitwise_and(masked_im_v, color_mask)\n",
    "\n",
    "# Define the Hough transform parameters\n",
    "# Make a blank the same size as our image to draw on\n",
    "rho = 2 # distance resolution in pixels of the Hough grid\n",
    "theta = np.pi/180 # angular resolution in radians of the Hough grid\n",
    "threshold = 20     # minimum number of votes (intersections in Hough grid cell)\n",
    "min_line_len = 20 # minimum number of pixels making up a line\n",
    "max_line_gap = 20    # maximum gap in pixels between connectable line segments\n",
    "\n",
    "line_img_v = hough_lines(masked_img_v, rho, theta, threshold, min_line_len, max_line_gap)\n",
    "\n",
    "# Add weight and opacity to lines\n",
    "line_org_img_v = weighted_img(line_img_v, image)\n",
    "\n",
    "plt.imshow(line_org_img_v)  \n",
    "\n",
    "\n",
    "\n"
   ]
  },
  {
   "cell_type": "markdown",
   "metadata": {},
   "source": [
    "## Test on Images\n",
    "\n",
    "Now you should build your pipeline to work on the images in the directory \"test_images\"  \n",
    "**You should make sure your pipeline works well on these images before you try the videos.**"
   ]
  },
  {
   "cell_type": "code",
   "execution_count": null,
   "metadata": {
    "collapsed": false
   },
   "outputs": [],
   "source": [
    "import os\n",
    "os.listdir(\"test_images/\")"
   ]
  },
  {
   "cell_type": "markdown",
   "metadata": {},
   "source": [
    "run your solution on all test_images and make copies into the test_images directory)."
   ]
  },
  {
   "cell_type": "markdown",
   "metadata": {},
   "source": [
    "## Test on Videos\n",
    "\n",
    "You know what's cooler than drawing lanes over images? Drawing lanes over video!\n",
    "\n",
    "We can test our solution on two provided videos:\n",
    "\n",
    "`solidWhiteRight.mp4`\n",
    "\n",
    "`solidYellowLeft.mp4`"
   ]
  },
  {
   "cell_type": "code",
   "execution_count": 3,
   "metadata": {
    "collapsed": false
   },
   "outputs": [],
   "source": [
    "# Import everything needed to edit/save/watch video clips\n",
    "from moviepy.editor import VideoFileClip\n",
    "from IPython.display import HTML"
   ]
  },
  {
   "cell_type": "code",
   "execution_count": 4,
   "metadata": {
    "collapsed": false
   },
   "outputs": [],
   "source": [
    "def process_image(image):  \n",
    "    # Convert image into hsv space\n",
    "    hsv = cv2.cvtColor(image, cv2.COLOR_BGR2HSV)\n",
    "\n",
    "    # Get yellow and white mask\n",
    "    color_mask_white = filter_white(image)\n",
    "    color_mask_yellow = filter_yellow(image)\n",
    "    color_mask = cv2.bitwise_or(color_mask_white, color_mask_yellow)\n",
    "\n",
    "    # get v channel\n",
    "    gray_v = hsv[:, :, 2]\n",
    "    imshape = image.shape\n",
    "\n",
    "    # Gaussian Blur\n",
    "    kernel_size = 5\n",
    "    blur_gray_v = gaussian_blur(gray_v, kernel_size)\n",
    "\n",
    "    # Detect Canny edge\n",
    "    low_threshold = 60\n",
    "    high_threshold = 150\n",
    "    edges_v = canny(gray_v, low_threshold, high_threshold) \n",
    "\n",
    "    # Define region of interest for left lane, because camera angle is fixed\n",
    "    vertices = np.array([[(0,imshape[0]),(imshape[1]/2 - 2, imshape[0]* 0.59), (imshape[1]/2 + 2, imshape[0]* 0.59),(imshape[1], imshape[0])]], dtype=np.int32)\n",
    "    masked_im_v = region_of_interest(edges_v, vertices)\n",
    "\n",
    "    # Filter out non white and yellow regions\n",
    "    masked_img_v = cv2.bitwise_and(masked_im_v, color_mask)\n",
    "\n",
    "    # Define the Hough transform parameters\n",
    "    # Make a blank the same size as our image to draw on\n",
    "    rho = 2 # distance resolution in pixels of the Hough grid\n",
    "    theta = np.pi/180 # angular resolution in radians of the Hough grid\n",
    "    threshold = 20     # minimum number of votes (intersections in Hough grid cell)\n",
    "    min_line_len = 20 # minimum number of pixels making up a line\n",
    "    max_line_gap = 20    # maximum gap in pixels between connectable line segments\n",
    "\n",
    "    line_img_v = hough_lines(masked_img_v, rho, theta, threshold, min_line_len, max_line_gap)\n",
    "\n",
    "    # Add weight and opacity to lines\n",
    "    line_org_img_v = weighted_img(line_img_v, image)\n",
    "    \n",
    "    return line_org_img_v"
   ]
  },
  {
   "cell_type": "markdown",
   "metadata": {},
   "source": [
    "Let's try the one with the solid white lane on the right first ..."
   ]
  },
  {
   "cell_type": "code",
   "execution_count": 5,
   "metadata": {
    "collapsed": false
   },
   "outputs": [
    {
     "name": "stdout",
     "output_type": "stream",
     "text": [
      "[MoviePy] >>>> Building video white.mp4\n",
      "[MoviePy] Writing video white.mp4\n"
     ]
    },
    {
     "name": "stderr",
     "output_type": "stream",
     "text": [
      "100%|█████████▉| 221/222 [00:14<00:00, 16.72it/s]\n"
     ]
    },
    {
     "name": "stdout",
     "output_type": "stream",
     "text": [
      "[MoviePy] Done.\n",
      "[MoviePy] >>>> Video ready: white.mp4 \n",
      "\n",
      "CPU times: user 33.9 s, sys: 372 ms, total: 34.3 s\n",
      "Wall time: 15.6 s\n"
     ]
    }
   ],
   "source": [
    "white_output = 'white.mp4'\n",
    "clip1 = VideoFileClip(\"solidWhiteRight.mp4\")\n",
    "white_clip = clip1.fl_image(process_image) #NOTE: this function expects color images!!\n",
    "%time white_clip.write_videofile(white_output, audio=False)"
   ]
  },
  {
   "cell_type": "markdown",
   "metadata": {},
   "source": [
    "Play the video inline, or if you prefer find the video in your filesystem (should be in the same directory) and play it in your video player of choice."
   ]
  },
  {
   "cell_type": "code",
   "execution_count": 6,
   "metadata": {
    "collapsed": false
   },
   "outputs": [
    {
     "data": {
      "text/html": [
       "\n",
       "<video width=\"960\" height=\"540\" controls>\n",
       "  <source src=\"white.mp4\">\n",
       "</video>\n"
      ],
      "text/plain": [
       "<IPython.core.display.HTML object>"
      ]
     },
     "execution_count": 6,
     "metadata": {},
     "output_type": "execute_result"
    }
   ],
   "source": [
    "HTML(\"\"\"\n",
    "<video width=\"960\" height=\"540\" controls>\n",
    "  <source src=\"{0}\">\n",
    "</video>\n",
    "\"\"\".format(white_output))"
   ]
  },
  {
   "cell_type": "markdown",
   "metadata": {},
   "source": [
    "**At this point, if you were successful you probably have the Hough line segments drawn onto the road, but what about identifying the full extent of the lane and marking it clearly as in the example video (P1_example.mp4)?  Think about defining a line to run the full length of the visible lane based on the line segments you identified with the Hough Transform.  Modify your draw_lines function accordingly and try re-running your pipeline.**"
   ]
  },
  {
   "cell_type": "markdown",
   "metadata": {},
   "source": [
    "Now for the one with the solid yellow lane on the left. This one's more tricky!"
   ]
  },
  {
   "cell_type": "code",
   "execution_count": 7,
   "metadata": {
    "collapsed": false
   },
   "outputs": [
    {
     "name": "stdout",
     "output_type": "stream",
     "text": [
      "[MoviePy] >>>> Building video yellow.mp4\n",
      "[MoviePy] Writing video yellow.mp4\n"
     ]
    },
    {
     "name": "stderr",
     "output_type": "stream",
     "text": [
      "100%|█████████▉| 681/682 [00:49<00:00, 12.27it/s]\n"
     ]
    },
    {
     "name": "stdout",
     "output_type": "stream",
     "text": [
      "[MoviePy] Done.\n",
      "[MoviePy] >>>> Video ready: yellow.mp4 \n",
      "\n",
      "CPU times: user 1min 51s, sys: 1.28 s, total: 1min 52s\n",
      "Wall time: 50.6 s\n"
     ]
    }
   ],
   "source": [
    "yellow_output = 'yellow.mp4'\n",
    "clip2 = VideoFileClip('solidYellowLeft.mp4')\n",
    "yellow_clip = clip2.fl_image(process_image)\n",
    "%time yellow_clip.write_videofile(yellow_output, audio=False)"
   ]
  },
  {
   "cell_type": "code",
   "execution_count": 8,
   "metadata": {
    "collapsed": false
   },
   "outputs": [
    {
     "data": {
      "text/html": [
       "\n",
       "<video width=\"960\" height=\"540\" controls>\n",
       "  <source src=\"yellow.mp4\">\n",
       "</video>\n"
      ],
      "text/plain": [
       "<IPython.core.display.HTML object>"
      ]
     },
     "execution_count": 8,
     "metadata": {},
     "output_type": "execute_result"
    }
   ],
   "source": [
    "HTML(\"\"\"\n",
    "<video width=\"960\" height=\"540\" controls>\n",
    "  <source src=\"{0}\">\n",
    "</video>\n",
    "\"\"\".format(yellow_output))"
   ]
  },
  {
   "cell_type": "markdown",
   "metadata": {},
   "source": [
    "## Reflections\n",
    "\n",
    "Congratulations on finding the lane lines!  As the final step in this project, we would like you to share your thoughts on your lane finding pipeline... specifically, how could you imagine making your algorithm better / more robust?  Where will your current algorithm be likely to fail?\n",
    "\n",
    "Please add your thoughts below,  and if you're up for making your pipeline more robust, be sure to scroll down and check out the optional challenge video below!\n",
    "\n"
   ]
  },
  {
   "cell_type": "markdown",
   "metadata": {},
   "source": [
    "To solve the optional challenge, I convert the image from RGB to HSV and only use the V channel for the lane detection. It is because yellow faint out in gray scale image. In order to remove false positive, I used outlier remover which may cause some false negative. But I think false negative is better than false positive.\n",
    "\n",
    "Possible failure: \n",
    "1. If the lane is right in the middle of the car, there will be an infinite slope. It will cause the program to fail.\n",
    "2. If there is other noise like shadow/arrow/number on the road, it will confuse the algorithm.\n",
    "3. Diffenrt road type, differnt time of the day and different weather may also fail the algorithm.\n",
    "4. This algorithm cannot detect curved lane because it only fits straight lines.\n",
    "\n",
    "Posible Solution:\n",
    "1. I added the infinite slope check. If this happens, the line will not be included in the valid line set.\n",
    "2. One possible solution for shadows may be compute the local maximum. Arrow and number may need machine learning to detect.\n",
    "3. Threshold should not be a fix number but rather a number changes with the image condition(brightness, shadow ...) These parameters can also be machine learned though extensive trainng.\n",
    "4. If I have more time, I will try to fit curve (higher order polinomial) to the lanes.\n",
    "5. For videos, we can also consider the relationship between frames. For those false negative, we can continue to use previous frame lines. For normal frame, we can use previous frame line parameters as a seed.\n",
    "\n"
   ]
  },
  {
   "cell_type": "markdown",
   "metadata": {},
   "source": [
    "## Submission\n",
    "\n",
    "If you're satisfied with your video outputs it's time to submit!  Submit this ipython notebook for review.\n"
   ]
  },
  {
   "cell_type": "markdown",
   "metadata": {
    "collapsed": true
   },
   "source": [
    "## Optional Challenge\n",
    "\n",
    "Try your lane finding pipeline on the video below.  Does it still work?  Can you figure out a way to make it more robust?  If you're up for the challenge, modify your pipeline so it works with this video and submit it along with the rest of your project!"
   ]
  },
  {
   "cell_type": "code",
   "execution_count": 9,
   "metadata": {
    "collapsed": false
   },
   "outputs": [
    {
     "name": "stdout",
     "output_type": "stream",
     "text": [
      "[MoviePy] >>>> Building video extra.mp4\n",
      "[MoviePy] Writing video extra.mp4\n"
     ]
    },
    {
     "name": "stderr",
     "output_type": "stream",
     "text": [
      "100%|██████████| 251/251 [00:33<00:00,  5.64it/s]\n"
     ]
    },
    {
     "name": "stdout",
     "output_type": "stream",
     "text": [
      "[MoviePy] Done.\n",
      "[MoviePy] >>>> Video ready: extra.mp4 \n",
      "\n",
      "CPU times: user 1min 14s, sys: 1.07 s, total: 1min 15s\n",
      "Wall time: 35.7 s\n"
     ]
    }
   ],
   "source": [
    "challenge_output = 'extra.mp4'\n",
    "clip2 = VideoFileClip('challenge.mp4')\n",
    "challenge_clip = clip2.fl_image(process_image)\n",
    "%time challenge_clip.write_videofile(challenge_output, audio=False)"
   ]
  },
  {
   "cell_type": "code",
   "execution_count": 10,
   "metadata": {
    "collapsed": false
   },
   "outputs": [
    {
     "data": {
      "text/html": [
       "\n",
       "<video width=\"960\" height=\"540\" controls>\n",
       "  <source src=\"extra.mp4\">\n",
       "</video>\n"
      ],
      "text/plain": [
       "<IPython.core.display.HTML object>"
      ]
     },
     "execution_count": 10,
     "metadata": {},
     "output_type": "execute_result"
    }
   ],
   "source": [
    "HTML(\"\"\"\n",
    "<video width=\"960\" height=\"540\" controls>\n",
    "  <source src=\"{0}\">\n",
    "</video>\n",
    "\"\"\".format(challenge_output))"
   ]
  },
  {
   "cell_type": "code",
   "execution_count": null,
   "metadata": {
    "collapsed": true
   },
   "outputs": [],
   "source": []
  }
 ],
 "metadata": {
  "anaconda-cloud": {},
  "kernelspec": {
   "display_name": "Python [conda env:udacity_self_driving]",
   "language": "python",
   "name": "conda-env-udacity_self_driving-py"
  },
  "language_info": {
   "codemirror_mode": {
    "name": "ipython",
    "version": 3
   },
   "file_extension": ".py",
   "mimetype": "text/x-python",
   "name": "python",
   "nbconvert_exporter": "python",
   "pygments_lexer": "ipython3",
   "version": "3.5.2"
  }
 },
 "nbformat": 4,
 "nbformat_minor": 0
}
