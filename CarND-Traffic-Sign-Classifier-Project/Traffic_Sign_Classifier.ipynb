{
 "cells": [
  {
   "cell_type": "markdown",
   "metadata": {},
   "source": [
    "# Self-Driving Car Engineer Nanodegree\n",
    "\n",
    "## Deep Learning\n",
    "\n",
    "## Project: Build a Traffic Sign Recognition Classifier\n",
    "\n",
    "In this notebook, a template is provided for you to implement your functionality in stages which is required to successfully complete this project. If additional code is required that cannot be included in the notebook, be sure that the Python code is successfully imported and included in your submission, if necessary. Sections that begin with **'Implementation'** in the header indicate where you should begin your implementation for your project. Note that some sections of implementation are optional, and will be marked with **'Optional'** in the header.\n",
    "\n",
    "In addition to implementing code, there will be questions that you must answer which relate to the project and your implementation. Each section where you will answer a question is preceded by a **'Question'** header. Carefully read each question and provide thorough answers in the following text boxes that begin with **'Answer:'**. Your project submission will be evaluated based on your answers to each of the questions and the implementation you provide.\n",
    "\n",
    ">**Note:** Code and Markdown cells can be executed using the **Shift + Enter** keyboard shortcut. In addition, Markdown cells can be edited by typically double-clicking the cell to enter edit mode."
   ]
  },
  {
   "cell_type": "markdown",
   "metadata": {},
   "source": [
    "---\n",
    "## Step 0: Load The Data"
   ]
  },
  {
   "cell_type": "code",
   "execution_count": 1,
   "metadata": {
    "collapsed": false
   },
   "outputs": [
    {
     "name": "stdout",
     "output_type": "stream",
     "text": [
      "[ 0  0  0 ..., 42 42 42]\n"
     ]
    }
   ],
   "source": [
    "# Load pickled data\n",
    "import pickle\n",
    "\n",
    "# TODO: Fill this in based on where you saved the training and testing data\n",
    "training_file = \"/home/linfeng-zc/Documents/Udacity/CarND-Traffic-Sign-Classifier-Project/traffic-signs-data/train.p\"\n",
    "testing_file = \"/home/linfeng-zc/Documents/Udacity/CarND-Traffic-Sign-Classifier-Project/traffic-signs-data/test.p\"\n",
    "\n",
    "with open(training_file, mode='rb') as f:\n",
    "    train = pickle.load(f)\n",
    "with open(testing_file, mode='rb') as f:\n",
    "    test = pickle.load(f)\n",
    "    \n",
    "X_train, y_train = train['features'], train['labels']\n",
    "X_test, y_test = test['features'], test['labels']\n",
    "\n",
    "print (y_train)"
   ]
  },
  {
   "cell_type": "markdown",
   "metadata": {},
   "source": [
    "---\n",
    "\n",
    "## Step 1: Dataset Summary & Exploration\n",
    "\n",
    "The pickled data is a dictionary with 4 key/value pairs:\n",
    "\n",
    "- `'features'` is a 4D array containing raw pixel data of the traffic sign images, (num examples, width, height, channels).\n",
    "- `'labels'` is a 2D array containing the label/class id of the traffic sign. The file `signnames.csv` contains id -> name mappings for each id.\n",
    "- `'sizes'` is a list containing tuples, (width, height) representing the the original width and height the image.\n",
    "- `'coords'` is a list containing tuples, (x1, y1, x2, y2) representing coordinates of a bounding box around the sign in the image. **THESE COORDINATES ASSUME THE ORIGINAL IMAGE. THE PICKLED DATA CONTAINS RESIZED VERSIONS (32 by 32) OF THESE IMAGES**\n",
    "\n",
    "Complete the basic data summary below."
   ]
  },
  {
   "cell_type": "code",
   "execution_count": 2,
   "metadata": {
    "collapsed": false
   },
   "outputs": [
    {
     "name": "stdout",
     "output_type": "stream",
     "text": [
      "Number of training examples = 39209\n",
      "Number of testing examples = 12630\n",
      "Image data shape = (32, 32, 3)\n",
      "Number of classes = 43\n"
     ]
    }
   ],
   "source": [
    "### Replace each question mark with the appropriate value.\n",
    "\n",
    "# TODO: Number of training examples\n",
    "n_train = len(y_train)\n",
    "\n",
    "# TODO: Number of testing examples.\n",
    "n_test = len(y_test)\n",
    "\n",
    "# TODO: What's the shape of an traffic sign image?\n",
    "image_shape = X_train[1].shape\n",
    "\n",
    "# TODO: How many unique classes/labels there are in the dataset.\n",
    "n_classes = 43\n",
    "\n",
    "print(\"Number of training examples =\", n_train)\n",
    "print(\"Number of testing examples =\", n_test)\n",
    "print(\"Image data shape =\", image_shape)\n",
    "print(\"Number of classes =\", n_classes)"
   ]
  },
  {
   "cell_type": "markdown",
   "metadata": {},
   "source": [
    "Visualize the German Traffic Signs Dataset using the pickled file(s). This is open ended, suggestions include: plotting traffic sign images, plotting the count of each sign, etc.\n",
    "\n",
    "The [Matplotlib](http://matplotlib.org/) [examples](http://matplotlib.org/examples/index.html) and [gallery](http://matplotlib.org/gallery.html) pages are a great resource for doing visualizations in Python.\n",
    "\n",
    "**NOTE:** It's recommended you start with something simple first. If you wish to do more, come back to it after you've completed the rest of the sections."
   ]
  },
  {
   "cell_type": "code",
   "execution_count": 3,
   "metadata": {
    "collapsed": false
   },
   "outputs": [
    {
     "data": {
      "text/plain": [
       "<matplotlib.image.AxesImage at 0x7f76fe9192e8>"
      ]
     },
     "execution_count": 3,
     "metadata": {},
     "output_type": "execute_result"
    },
    {
     "data": {
      "image/png": "[encoded data removed]",
      "text/plain": [
       "<matplotlib.figure.Figure at 0x7f772432ddd8>"
      ]
     },
     "metadata": {},
     "output_type": "display_data"
    }
   ],
   "source": [
    "### Data exploration visualization goes here.\n",
    "### Feel free to use as many code cells as needed.\n",
    "import matplotlib.pyplot as plt\n",
    "import random\n",
    "import numpy as np\n",
    "\n",
    "# Visualizations will be shown in the notebook.\n",
    "%matplotlib inline\n",
    "\n",
    "index = random.randint(0, len(X_train))\n",
    "image = X_train[index].squeeze()\n",
    "\n",
    "\n",
    "plt.figure(figsize=(1,1))\n",
    "plt.imshow(image)"
   ]
  },
  {
   "cell_type": "code",
   "execution_count": null,
   "metadata": {
    "collapsed": false
   },
   "outputs": [],
   "source": [
    "yuv = cv2.cvtColor(image, cv2.COLOR_BGR2YUV)\n",
    "plt.figure(figsize=(1,1))\n",
    "plt.imshow(yuv[:, :, 0])\n",
    "\n",
    "# convert data type to float\n",
    "yuv_float = np.float32(yuv)\n",
    "yuv_float = yuv_float * 1.0/255.0\n",
    "y_float = yuv_float[:, :, 0]\n",
    "\n",
    "mean = cv2.GaussianBlur(y_float, (11, 11), 1, 1)\n",
    "yuv_norm = y_float - mean\n",
    "\n",
    "plt.figure(figsize=(1,1))\n",
    "plt.imshow(mean)\n",
    "\n",
    "plt.figure(figsize=(1,1))\n",
    "plt.imshow(yuv_norm)\n",
    "\n",
    "variance = cv2.GaussianBlur(np.multiply(yuv_norm, yuv_norm), (11, 11), 1, 1)\n",
    "variance_mean = np.mean(variance)\n",
    "variance_max = np.maximum(variance, variance_mean)\n",
    "print(variance_mean)\n",
    "\n",
    "std = np.sqrt(variance_max)\n",
    "\n",
    "plt.figure(figsize=(1,1))\n",
    "plt.imshow(variance_max)\n",
    "#print(np.multiply(yuv_norm, yuv_norm))\n",
    "\n",
    "yuv_local_norm = np.divide(yuv_norm, std)\n",
    "\n",
    "#print (index)\n",
    "plt.figure(figsize=(1,1))\n",
    "plt.imshow(yuv_local_norm)\n",
    "\n",
    "\n",
    "yuv_global_norm = cv2.normalize(yuv_local_norm, 0.0, 1.0)\n",
    "plt.figure(figsize=(1,1))\n",
    "plt.imshow(yuv_global_norm)\n",
    "\n"
   ]
  },
  {
   "cell_type": "markdown",
   "metadata": {},
   "source": [
    "----\n",
    "\n",
    "## Step 2: Design and Test a Model Architecture\n",
    "\n",
    "Design and implement a deep learning model that learns to recognize traffic signs. Train and test your model on the [German Traffic Sign Dataset](http://benchmark.ini.rub.de/?section=gtsrb&subsection=dataset).\n",
    "\n",
    "There are various aspects to consider when thinking about this problem:\n",
    "\n",
    "- Neural network architecture\n",
    "- Play around preprocessing techniques (normalization, rgb to grayscale, etc)\n",
    "- Number of examples per label (some have more than others).\n",
    "- Generate fake data.\n",
    "\n",
    "Here is an example of a [published baseline model on this problem](http://yann.lecun.com/exdb/publis/pdf/sermanet-ijcnn-11.pdf). It's not required to be familiar with the approach used in the paper but, it's good practice to try to read papers like these.\n",
    "\n",
    "**NOTE:** The LeNet-5 implementation shown in the [classroom](https://classroom.udacity.com/nanodegrees/nd013/parts/fbf77062-5703-404e-b60c-95b78b2f3f9e/modules/6df7ae49-c61c-4bb2-a23e-6527e69209ec/lessons/601ae704-1035-4287-8b11-e2c2716217ad/concepts/d4aca031-508f-4e0b-b493-e7b706120f81) at the end of the CNN lesson is a solid starting point. You'll have to change the number of classes and possibly the preprocessing, but aside from that it's plug and play!"
   ]
  },
  {
   "cell_type": "markdown",
   "metadata": {},
   "source": [
    "### Implementation\n",
    "\n",
    "Use the code cell (or multiple code cells, if necessary) to implement the first step of your project. Once you have completed your implementation and are satisfied with the results, be sure to thoroughly answer the questions that follow."
   ]
  },
  {
   "cell_type": "code",
   "execution_count": 5,
   "metadata": {
    "collapsed": false
   },
   "outputs": [
    {
     "name": "stdout",
     "output_type": "stream",
     "text": [
      "Preprocessing training data...\n",
      "done\n",
      "(39209, 32, 32, 1)\n",
      "Preprocessing testing data...\n",
      "done\n",
      "(12630, 32, 32, 1)\n"
     ]
    }
   ],
   "source": [
    "### Preprocess the data here.\n",
    "### Feel free to use as many code cells as needed.\n",
    "# Global normalization\n",
    "from sklearn import preprocessing\n",
    "import cv2\n",
    "\n",
    "def image_preprocessing(image):\n",
    "    '''\n",
    "    yuv = cv2.cvtColor(image, cv2.COLOR_BGR2YUV)\n",
    "    clahe = cv2.createCLAHE(clipLimit=2.0, tileGridSize=(4, 4))\n",
    "    c11 = clahe.apply(yuv[:, :, 0])\n",
    "    std_image_y = preprocessing.scale(c11)\n",
    "    '''\n",
    "    \n",
    "    '''\n",
    "    std_image_u = preprocessing.scale(yuv[:, :, 1])\n",
    "    std_image_v = preprocessing.scale(yuv[:, :, 2])\n",
    "    \n",
    "    yuv_norm = np.zeros(yuv.shape, dtype=std_image_y.dtype)\n",
    "    \n",
    "    yuv_norm[:, :, 0] = std_image_y;\n",
    "    yuv_norm[:, :, 1] = std_image_u;\n",
    "    yuv_norm[:, :, 2] = std_image_v;\n",
    "    '''\n",
    "    '''\n",
    "    yuv_norm = np.zeros((yuv.shape[0], yuv.shape[1], 1), dtype=std_image_y.dtype)\n",
    "    yuv_norm[:, :, 0] = std_image_y\n",
    "    '''    \n",
    "    yuv = cv2.cvtColor(image, cv2.COLOR_BGR2YUV)\n",
    "\n",
    "    # convert data type to float\n",
    "    yuv_float = np.float32(yuv)\n",
    "    yuv_float = yuv_float * 1.0/255.0\n",
    "    y_float = yuv_float[:, :, 0]\n",
    "    \n",
    "    # Center image to zero mean\n",
    "    mean = cv2.GaussianBlur(y_float, (11, 11), 1, 1)\n",
    "    yuv_zero_mean = y_float - mean\n",
    "\n",
    "    # scale to normalize std\n",
    "    variance = cv2.GaussianBlur(np.multiply(yuv_zero_mean, yuv_zero_mean), (11, 11), 1, 1)\n",
    "    variance_mean = np.mean(variance)\n",
    "    variance_max = np.maximum(variance, variance_mean)\n",
    "\n",
    "    std = np.sqrt(variance_max)\n",
    "\n",
    "    yuv_local_norm = np.divide(yuv_zero_mean, std)\n",
    "    yuv_global_norm = cv2.normalize(yuv_local_norm, 0.0, 1.0)\n",
    "    \n",
    "    yuv_norm = np.zeros((yuv.shape[0], yuv.shape[1], 1), dtype=yuv_global_norm.dtype)\n",
    "    yuv_norm[:, :, 0] = yuv_global_norm\n",
    "    \n",
    "    return yuv_norm\n",
    "\n",
    "\n",
    "print(\"Preprocessing training data...\")\n",
    "X_train_processed = []\n",
    "for img in X_train:\n",
    "    X_train_processed.append(image_preprocessing(img))\n",
    "    \n",
    "X_train_processed = np.concatenate([img[np.newaxis] for img in X_train_processed])\n",
    "X_train = X_train_processed;\n",
    "print(\"done\")\n",
    "print(X_train.shape)\n",
    "\n",
    "\n",
    "print(\"Preprocessing testing data...\")\n",
    "X_test_processed = []\n",
    "for img in X_test:\n",
    "    X_test_processed.append(image_preprocessing(img))\n",
    "    \n",
    "X_test_processed = np.concatenate([img[np.newaxis] for img in X_test_processed])\n",
    "X_test = X_test_processed;\n",
    "print(\"done\")\n",
    "print(X_test.shape)\n"
   ]
  },
  {
   "cell_type": "markdown",
   "metadata": {},
   "source": [
    "### Question 1 \n",
    "\n",
    "_Describe how you preprocessed the data. Why did you choose that technique?_"
   ]
  },
  {
   "cell_type": "markdown",
   "metadata": {},
   "source": [
    "**Answer:**\n",
    "I first converted all the training and testing image into YUV. Then I standardized them by shifting and scaling the distribution of pixel values to have zero mean and unit variance. I standardized the image for numerical stability and also faster convergence."
   ]
  },
  {
   "cell_type": "code",
   "execution_count": 6,
   "metadata": {
    "collapsed": false
   },
   "outputs": [],
   "source": [
    "### Generate data additional data (OPTIONAL!)\n",
    "### and split the data into training/validation/testing sets here.\n",
    "### Feel free to use as many code cells as needed.\n",
    "import tensorflow as tf\n",
    "from sklearn.model_selection import train_test_split\n",
    "from sklearn.utils import shuffle\n",
    "from scipy.ndimage.interpolation import rotate\n",
    "from scipy.ndimage.interpolation import shift\n",
    "from scipy.ndimage.interpolation import zoom\n",
    "\n",
    "sess = tf.InteractiveSession()\n",
    "\n",
    "# Rotate images\n",
    "def randomRotation(lower, upper, image):\n",
    "    angle = random.uniform(lower, upper)\n",
    "    #print (\"Rotate Image for: \", angle)\n",
    "    rotated = rotate(image, angle, reshape=False)\n",
    "    return rotated\n",
    "\n",
    "# Translate images\n",
    "def randomShift(lower, upper, image):\n",
    "    delta = random.uniform(lower, upper)\n",
    "    #print (\"Shift Image for: \", delta)\n",
    "    shifted = shift(image, [delta, delta, 0])\n",
    "    return shifted\n",
    "\n",
    "# Zoom images\n",
    "def randomZoom(lower, upper, image):\n",
    "    scale = random.uniform(lower, upper)\n",
    "    #print (\"Scale Image for: \", scale)\n",
    "    zoomed = zoom(image, [scale, scale, 1])\n",
    "    # start idx for crop or padding\n",
    "    zoomed_hw = zoomed.shape[:2]\n",
    "    input_hw = image.shape[:2]    \n",
    "    start_idx = abs(np.divide(np.add(zoomed_hw, np.multiply(input_hw, -1)), 2))\n",
    "    start_idx = start_idx.astype(int)\n",
    "\n",
    "    output = np.zeros(image.shape, dtype=image.dtype)\n",
    "    if scale >= 1:\n",
    "        end_idx = np.add(start_idx, input_hw) \n",
    "        output = zoomed[start_idx[0]:end_idx[0], start_idx[1]:end_idx[1], :]\n",
    "    else:\n",
    "        end_idx = np.add(start_idx, zoomed_hw)\n",
    "        output[start_idx[0]:end_idx[0], start_idx[1]:end_idx[1], :] = zoomed\n",
    "    return output\n"
   ]
  },
  {
   "cell_type": "code",
   "execution_count": 7,
   "metadata": {
    "collapsed": false
   },
   "outputs": [
    {
     "name": "stdout",
     "output_type": "stream",
     "text": [
      "Rotatin, Shifting, Zooming...\n"
     ]
    },
    {
     "name": "stderr",
     "output_type": "stream",
     "text": [
      "/home/linfeng-zc/anaconda3/envs/CarND-Traffic-Sign-Classifier-Project/lib/python3.5/site-packages/scipy/ndimage/interpolation.py:568: UserWarning: From scipy 0.13.0, the output shape of zoom() is calculated with round() instead of int() - for these inputs the size of the returned array has changed.\n",
      "  \"the returned array has changed.\", UserWarning)\n",
      "/home/linfeng-zc/anaconda3/envs/CarND-Traffic-Sign-Classifier-Project/lib/python3.5/site-packages/scipy/ndimage/interpolation.py:571: RuntimeWarning: invalid value encountered in true_divide\n",
      "  zoom = (numpy.array(input.shape) - 1) / zoom_div\n"
     ]
    },
    {
     "name": "stdout",
     "output_type": "stream",
     "text": [
      "Number of Transformed image =  117627\n",
      "Number of Transformed image label =  117627\n"
     ]
    }
   ],
   "source": [
    "additional_img = []\n",
    "additional_label = []\n",
    "print (\"Rotatin, Shifting, Zooming...\")\n",
    "for i in range(X_train.shape[0]):\n",
    "    # Rotate\n",
    "    rotated_img = randomRotation(-15.0, 15.0, X_train[i])\n",
    "    additional_img.append(rotated_img)\n",
    "    additional_label.append(y_train[i])\n",
    "    \n",
    "    # Shift\n",
    "    shifted_img = randomShift(-2.0, 2.0, X_train[i])\n",
    "    additional_img.append(shifted_img)\n",
    "    additional_label.append(y_train[i])\n",
    "    \n",
    "    # Zoom\n",
    "    zoomed_img = randomZoom(0.9, 1.1, X_train[i])\n",
    "    additional_img.append(zoomed_img)\n",
    "    additional_label.append(y_train[i])\n",
    "    \n",
    "print (\"Number of Transformed image = \", len(additional_img))\n",
    "print (\"Number of Transformed image label = \", len(additional_label))"
   ]
  },
  {
   "cell_type": "code",
   "execution_count": 8,
   "metadata": {
    "collapsed": false
   },
   "outputs": [
    {
     "name": "stdout",
     "output_type": "stream",
     "text": [
      "Dimension of new training set =  (156836, 32, 32, 1)\n",
      "Dimension of new training result =  (156836,)\n"
     ]
    }
   ],
   "source": [
    "additional_imgs = np.concatenate([img[np.newaxis] for img in additional_img])\n",
    "additional_labels = np.concatenate([label[np.newaxis] for label in additional_label])\n",
    "\n",
    "X_train = np.vstack((X_train, additional_imgs))\n",
    "y_train = np.hstack((y_train, additional_labels))\n",
    "print (\"Dimension of new training set = \", X_train.shape)\n",
    "print (\"Dimension of new training result = \", y_train.shape)"
   ]
  },
  {
   "cell_type": "code",
   "execution_count": 9,
   "metadata": {
    "collapsed": false
   },
   "outputs": [
    {
     "name": "stdout",
     "output_type": "stream",
     "text": [
      "(32, 32)\n"
     ]
    },
    {
     "data": {
      "text/plain": [
       "<matplotlib.image.AxesImage at 0x7f76841afc88>"
      ]
     },
     "execution_count": 9,
     "metadata": {},
     "output_type": "execute_result"
    },
    {
     "data": {
      "image/png": "[encoded data removed]",
      "text/plain": [
       "<matplotlib.figure.Figure at 0x7f76e0f93438>"
      ]
     },
     "metadata": {},
     "output_type": "display_data"
    }
   ],
   "source": [
    "print (X_train[156835,:,:,0].shape)\n",
    "plt.figure(figsize=(1,1))\n",
    "plt.imshow(X_train[336,:,:,0])"
   ]
  },
  {
   "cell_type": "code",
   "execution_count": 10,
   "metadata": {
    "collapsed": false
   },
   "outputs": [],
   "source": [
    "# Save preprocessed data\n",
    "new_training_data = {'features' : X_train, 'labels': y_train}\n",
    "new_testing_data = {'features' : X_test, 'labels': y_test}\n",
    "\n",
    "new_training_file = \"/home/linfeng-zc/Documents/Udacity/CarND-Traffic-Sign-Classifier-Project/traffic-signs-data/new_train.p\"\n",
    "new_testing_file = \"/home/linfeng-zc/Documents/Udacity/CarND-Traffic-Sign-Classifier-Project/traffic-signs-data/new_test.p\"\n",
    "\n",
    "pickle.dump( new_training_data, open( new_training_file, \"wb\" ) )\n",
    "pickle.dump( new_testing_data, open( new_testing_file, \"wb\" ) )"
   ]
  },
  {
   "cell_type": "code",
   "execution_count": 11,
   "metadata": {
    "collapsed": false
   },
   "outputs": [
    {
     "name": "stdout",
     "output_type": "stream",
     "text": [
      "Dimension of new training set =  (156836, 32, 32, 1)\n",
      "Dimension of new training result =  (156836,)\n"
     ]
    }
   ],
   "source": [
    "import pickle\n",
    "from sklearn.model_selection import train_test_split\n",
    "from sklearn.utils import shuffle\n",
    "\n",
    "# Load new training data\n",
    "training_file = \"/home/linfeng-zc/Documents/Udacity/CarND-Traffic-Sign-Classifier-Project/traffic-signs-data/new_train.p\"\n",
    "testing_file = \"/home/linfeng-zc/Documents/Udacity/CarND-Traffic-Sign-Classifier-Project/traffic-signs-data/new_test.p\"\n",
    "\n",
    "with open(training_file, mode='rb') as f:\n",
    "    train = pickle.load(f)\n",
    "\n",
    "with open(testing_file, mode='rb') as f:\n",
    "    test = pickle.load(f)\n",
    "\n",
    "    \n",
    "X_train, y_train = train['features'], train['labels']\n",
    "X_test, y_test = test['features'], test['labels']\n",
    "\n",
    "print (\"Dimension of new training set = \", X_train.shape)\n",
    "print (\"Dimension of new training result = \", y_train.shape)\n"
   ]
  },
  {
   "cell_type": "code",
   "execution_count": 12,
   "metadata": {
    "collapsed": false
   },
   "outputs": [
    {
     "name": "stdout",
     "output_type": "stream",
     "text": [
      "Update Image Shape: (32, 32, 1)\n"
     ]
    }
   ],
   "source": [
    "# Shuffle the training data\n",
    "X_train, y_train = shuffle(X_train, y_train)\n",
    "\n",
    "# Split data into training and validation set\n",
    "X_train, X_validation, y_train, y_validation = train_test_split(X_train, y_train, test_size=0.2, random_state=0)\n",
    "print(\"Update Image Shape: {}\".format(X_train[0].shape))"
   ]
  },
  {
   "cell_type": "markdown",
   "metadata": {},
   "source": [
    "### Question 2\n",
    "\n",
    "_Describe how you set up the training, validation and testing data for your model. **Optional**: If you generated additional data, how did you generate the data? Why did you generate the data? What are the differences in the new dataset (with generated data) from the original dataset?_"
   ]
  },
  {
   "cell_type": "markdown",
   "metadata": {},
   "source": [
    "**Answer:**\n",
    "\n",
    "First, I added more data by randomly rotating(-15, 15), translating(-2.0, 2.0) and scaling(0.9, 1.1) the original training data (based on LeCun's papaer) because convolutional networks have invariant to small scale, translation and rotation.\n",
    "\n",
    "After that, I shuffled the original training data and then split them into 80% training and 20% validation."
   ]
  },
  {
   "cell_type": "code",
   "execution_count": 13,
   "metadata": {
    "collapsed": true
   },
   "outputs": [],
   "source": [
    "### Define your architecture here.\n",
    "### Feel free to use as many code cells as needed.\n",
    "import tensorflow as tf\n",
    "from tensorflow.contrib.layers import flatten\n",
    "\n",
    "EPOCHS = 15\n",
    "BATCH_SIZE = 128"
   ]
  },
  {
   "cell_type": "code",
   "execution_count": 14,
   "metadata": {
    "collapsed": true
   },
   "outputs": [],
   "source": [
    "def conv2d(x, W, b, strides=1):\n",
    "    # Conv2D wrapper, with bias and relu activation\n",
    "    x = tf.nn.conv2d(x, W, strides=[1, strides, strides, 1], padding='VALID')\n",
    "    x = tf.nn.bias_add(x, b)\n",
    "    return tf.nn.relu(x)\n",
    "\n",
    "def maxpool2d(x, k=2):\n",
    "    return tf.nn.max_pool(\n",
    "        x,\n",
    "        ksize=[1, k, k, 1],\n",
    "        strides=[1, k, k, 1],\n",
    "        padding='SAME')\n",
    "\n",
    "def LeNet(x, keep_prob):    \n",
    "    # Hyperparameters\n",
    "    mu = 0\n",
    "    sigma = 0.1\n",
    "    \n",
    "    layer_depth = {\n",
    "        'layer_1': 6,\n",
    "        'layer_2': 16,\n",
    "        'layer_3': 120,\n",
    "        'layer_4': 84,\n",
    "        'layer_5': 43\n",
    "    }\n",
    "    \n",
    "    weights = {\n",
    "        'layer_1': tf.Variable(tf.truncated_normal(\n",
    "            [5, 5, 1, layer_depth['layer_1']], mu, sigma)),\n",
    "        'layer_2': tf.Variable(tf.truncated_normal(\n",
    "            [5, 5, layer_depth['layer_1'], layer_depth['layer_2']], mu, sigma)),\n",
    "        'layer_3': tf.Variable(tf.truncated_normal(\n",
    "            [14*14*layer_depth['layer_1'] + 5*5*layer_depth['layer_2'], layer_depth['layer_3']], mu, sigma)),\n",
    "        #'layer_3': tf.Variable(tf.truncated_normal(\n",
    "        #    [5*5*layer_depth['layer_2'], layer_depth['layer_3']], mu, sigma)),\n",
    "        'layer_4': tf.Variable(tf.truncated_normal(\n",
    "            [layer_depth['layer_3'], layer_depth['layer_4']], mu, sigma)),\n",
    "        'layer_5': tf.Variable(tf.truncated_normal(\n",
    "            [layer_depth['layer_4'], layer_depth['layer_5']], mu, sigma))\n",
    "    }\n",
    "    biases = {\n",
    "        'layer_1': tf.Variable(tf.zeros(layer_depth['layer_1'])),\n",
    "        'layer_2': tf.Variable(tf.zeros(layer_depth['layer_2'])),\n",
    "        'layer_3': tf.Variable(tf.zeros(layer_depth['layer_3'])),\n",
    "        'layer_4': tf.Variable(tf.zeros(layer_depth['layer_4'])),\n",
    "        'layer_5': tf.Variable(tf.zeros(layer_depth['layer_5']))\n",
    "    }\n",
    "    \n",
    "    # Layer 1: Convolutional. Input = 32x32x3. Output = 28x28x6.\n",
    "    conv1 = conv2d(x, weights['layer_1'], biases['layer_1'])\n",
    "    # Pooling. Input = 28x28x6. Output = 14x14x6.\n",
    "    conv1 = maxpool2d(conv1)\n",
    "    # Flatten. Input = 14x14x6. Output = 1176.\n",
    "    fc0 = tf.contrib.layers.flatten(conv1)\n",
    "    \n",
    "    # Layer 2: Convolutional. Output = 10x10x16.\n",
    "    conv2 = conv2d(conv1, weights['layer_2'], biases['layer_2'])\n",
    "    # Pooling. Input = 10x10x16. Output = 5x5x16.\n",
    "    conv2 = maxpool2d(conv2)\n",
    "    # Flatten. Input = 5x5x16. Output = 400.\n",
    "    fc1 = tf.contrib.layers.flatten(conv2)\n",
    "    \n",
    "    # Concatenate layer 1 and layer 2\n",
    "    fc1 = tf.concat(1, [fc0, fc1])\n",
    "    \n",
    "    # Layer 3: Fully Connected. Input = 400. Output = 120.\n",
    "    fc1 = tf.add(\n",
    "        tf.matmul(fc1, weights['layer_3']),\n",
    "        biases['layer_3'])\n",
    "    # Activation.\n",
    "    fc1 = tf.nn.tanh(fc1)\n",
    "    # Drop out\n",
    "    #fc1 = tf.nn.dropout(fc1, keep_prob)\n",
    "\n",
    "    # Layer 4: Fully Connected. Input = 120. Output = 84.\n",
    "    fc2 = tf.add(\n",
    "        tf.matmul(fc1, weights['layer_4']),\n",
    "        biases['layer_4'])\n",
    "    # Activation.\n",
    "    fc2 = tf.nn.tanh(fc2)\n",
    "    #fc1 = tf.nn.dropout(fc1, keep_prob)\n",
    "\n",
    "    # Layer 5: Fully Connected. Input = 84. Output = 43.\n",
    "    logits = tf.add(tf.matmul(fc2, weights['layer_5']), biases['layer_5'])\n",
    "    return logits"
   ]
  },
  {
   "cell_type": "markdown",
   "metadata": {},
   "source": [
    "### Question 3\n",
    "\n",
    "_What does your final architecture look like? (Type of model, layers, sizes, connectivity, etc.)  For reference on how to build a deep neural network using TensorFlow, see [Deep Neural Network in TensorFlow\n",
    "](https://classroom.udacity.com/nanodegrees/nd013/parts/fbf77062-5703-404e-b60c-95b78b2f3f9e/modules/6df7ae49-c61c-4bb2-a23e-6527e69209ec/lessons/b516a270-8600-4f93-a0a3-20dfeabe5da6/concepts/83a3a2a2-a9bd-4b7b-95b0-eb924ab14432) from the classroom._\n"
   ]
  },
  {
   "cell_type": "markdown",
   "metadata": {},
   "source": [
    "**Answer:**"
   ]
  },
  {
   "cell_type": "code",
   "execution_count": 15,
   "metadata": {
    "collapsed": false
   },
   "outputs": [
    {
     "name": "stdout",
     "output_type": "stream",
     "text": [
      "Training...\n",
      "\n",
      "EPOCH 1 ...\n",
      "Validation Accuracy = 0.961\n",
      "\n",
      "EPOCH 2 ...\n",
      "Validation Accuracy = 0.983\n",
      "\n",
      "EPOCH 3 ...\n",
      "Validation Accuracy = 0.984\n",
      "\n",
      "EPOCH 4 ...\n",
      "Validation Accuracy = 0.991\n",
      "\n",
      "EPOCH 5 ...\n",
      "Validation Accuracy = 0.993\n",
      "\n",
      "EPOCH 6 ...\n",
      "Validation Accuracy = 0.991\n",
      "\n",
      "EPOCH 7 ...\n",
      "Validation Accuracy = 0.995\n",
      "\n",
      "EPOCH 8 ...\n",
      "Validation Accuracy = 0.993\n",
      "\n",
      "EPOCH 9 ...\n",
      "Validation Accuracy = 0.995\n",
      "\n",
      "EPOCH 10 ...\n",
      "Validation Accuracy = 0.995\n",
      "\n",
      "EPOCH 11 ...\n",
      "Validation Accuracy = 0.994\n",
      "\n",
      "EPOCH 12 ...\n",
      "Validation Accuracy = 0.996\n",
      "\n",
      "EPOCH 13 ...\n",
      "Validation Accuracy = 0.993\n",
      "\n",
      "EPOCH 14 ...\n",
      "Validation Accuracy = 0.993\n",
      "\n",
      "EPOCH 15 ...\n",
      "Validation Accuracy = 0.996\n",
      "\n",
      "Model saved\n"
     ]
    }
   ],
   "source": [
    "### Train your model here.\n",
    "### Feel free to use as many code cells as needed.\n",
    "x = tf.placeholder(tf.float32, (None, 32, 32, 1))\n",
    "y = tf.placeholder(tf.int32, (None))\n",
    "keep_prob = tf.placeholder(tf.float32)\n",
    "one_hot_y = tf.one_hot(y, 43)\n",
    "\n",
    "rate = 0.001\n",
    "\n",
    "logits = LeNet(x, keep_prob)\n",
    "cross_entropy = tf.nn.softmax_cross_entropy_with_logits(logits, one_hot_y)\n",
    "loss_operation = tf.reduce_mean(cross_entropy)\n",
    "optimizer = tf.train.AdamOptimizer(learning_rate = rate)\n",
    "training_operation = optimizer.minimize(loss_operation)\n",
    "\n",
    "correct_prediction = tf.equal(tf.argmax(logits, 1), tf.argmax(one_hot_y, 1))\n",
    "accuracy_operation = tf.reduce_mean(tf.cast(correct_prediction, tf.float32))\n",
    "saver = tf.train.Saver()\n",
    "\n",
    "def evaluate(X_data, y_data):\n",
    "    num_examples = len(X_data)\n",
    "    total_accuracy = 0 \n",
    "    sess = tf.get_default_session()\n",
    "    for offset in range(0, num_examples, BATCH_SIZE):\n",
    "        batch_x, batch_y = X_data[offset:offset+BATCH_SIZE], y_data[offset:offset+BATCH_SIZE]\n",
    "        accuracy = sess.run(accuracy_operation, feed_dict={x: batch_x, y: batch_y, keep_prob: 1})\n",
    "        total_accuracy += (accuracy * len(batch_x))\n",
    "    return total_accuracy / num_examples\n",
    "\n",
    "with tf.Session(config=tf.ConfigProto(log_device_placement=True)) as sess: \n",
    "    with tf.device(\"/gpu:0\"):\n",
    "        sess.run(tf.global_variables_initializer())\n",
    "        num_examples = len(X_train)\n",
    "\n",
    "        print(\"Training...\")\n",
    "        print()\n",
    "        for i in range(EPOCHS):\n",
    "            X_train, y_train = shuffle(X_train, y_train)\n",
    "            for offset in range(0, num_examples, BATCH_SIZE):\n",
    "                end = offset + BATCH_SIZE\n",
    "                batch_x, batch_y = X_train[offset:end], y_train[offset:end]\n",
    "                sess.run(training_operation, feed_dict={x: batch_x, y: batch_y, keep_prob: 0.8})\n",
    "\n",
    "            validation_accuracy = evaluate(X_validation, y_validation)\n",
    "            print(\"EPOCH {} ...\".format(i+1))\n",
    "            print(\"Validation Accuracy = {:.3f}\".format(validation_accuracy))\n",
    "            print()\n",
    "        \n",
    "    saver.save(sess, 'lenet')\n",
    "    print(\"Model saved\")"
   ]
  },
  {
   "cell_type": "markdown",
   "metadata": {},
   "source": [
    "### Question 4\n",
    "\n",
    "_How did you train your model? (Type of optimizer, batch size, epochs, hyperparameters, etc.)_\n"
   ]
  },
  {
   "cell_type": "markdown",
   "metadata": {},
   "source": [
    "**Answer:**"
   ]
  },
  {
   "cell_type": "markdown",
   "metadata": {},
   "source": [
    "### Question 5\n",
    "\n",
    "\n",
    "_What approach did you take in coming up with a solution to this problem? It may have been a process of trial and error, in which case, outline the steps you took to get to the final solution and why you chose those steps. Perhaps your solution involved an already well known implementation or architecture. In this case, discuss why you think this is suitable for the current problem._"
   ]
  },
  {
   "cell_type": "markdown",
   "metadata": {},
   "source": [
    "**Answer:**\n",
    "I started with the basic LeNet model from the execise in the lecture video. Initially the model gives me around 91% validation accuracy. Then I processed with additional rotated, translated and scaled data, the validation is around 93%. It didn't give me too many improvements. After converting image to YUV and processed with standaardization, the validation accuracy jumps to around 98.8%. I started to change the model based on Lecun's successful approach in the paper. I changed layer 1,layer 2 depth to (22,28) and (108,108)"
   ]
  },
  {
   "cell_type": "markdown",
   "metadata": {},
   "source": [
    "---\n",
    "\n",
    "## Step 3: Test a Model on New Images\n",
    "\n",
    "Take several pictures of traffic signs that you find on the web or around you (at least five), and run them through your classifier on your computer to produce example results. The classifier might not recognize some local signs but it could prove interesting nonetheless.\n",
    "\n",
    "You may find `signnames.csv` useful as it contains mappings from the class id (integer) to the actual sign name."
   ]
  },
  {
   "cell_type": "markdown",
   "metadata": {},
   "source": [
    "### Implementation\n",
    "\n",
    "Use the code cell (or multiple code cells, if necessary) to implement the first step of your project. Once you have completed your implementation and are satisfied with the results, be sure to thoroughly answer the questions that follow."
   ]
  },
  {
   "cell_type": "code",
   "execution_count": null,
   "metadata": {
    "collapsed": true
   },
   "outputs": [],
   "source": [
    "### Load the images and plot them here.\n",
    "### Feel free to use as many code cells as needed."
   ]
  },
  {
   "cell_type": "markdown",
   "metadata": {},
   "source": [
    "### Question 6\n",
    "\n",
    "_Choose five candidate images of traffic signs and provide them in the report. Are there any particular qualities of the image(s) that might make classification difficult? It could be helpful to plot the images in the notebook._\n",
    "\n"
   ]
  },
  {
   "cell_type": "markdown",
   "metadata": {},
   "source": [
    "**Answer:**"
   ]
  },
  {
   "cell_type": "code",
   "execution_count": 16,
   "metadata": {
    "collapsed": false
   },
   "outputs": [
    {
     "name": "stdout",
     "output_type": "stream",
     "text": [
      "Test Accuracy = 0.962\n"
     ]
    }
   ],
   "source": [
    "### Run the predictions here.\n",
    "### Feel free to use as many code cells as needed.\n",
    "with tf.Session() as sess:\n",
    "    saver.restore(sess, tf.train.latest_checkpoint('.'))\n",
    "    \n",
    "    test_accuracy = evaluate(X_test, y_test)\n",
    "    print(\"Test Accuracy = {:.3f}\".format(test_accuracy))"
   ]
  },
  {
   "cell_type": "markdown",
   "metadata": {},
   "source": [
    "### Question 7\n",
    "\n",
    "_Is your model able to perform equally well on captured pictures when compared to testing on the dataset? The simplest way to do this check the accuracy of the predictions. For example, if the model predicted 1 out of 5 signs correctly, it's 20% accurate._\n",
    "\n",
    "_**NOTE:** You could check the accuracy manually by using `signnames.csv` (same directory). This file has a mapping from the class id (0-42) to the corresponding sign name. So, you could take the class id the model outputs, lookup the name in `signnames.csv` and see if it matches the sign from the image._\n"
   ]
  },
  {
   "cell_type": "markdown",
   "metadata": {},
   "source": [
    "**Answer:**"
   ]
  },
  {
   "cell_type": "code",
   "execution_count": null,
   "metadata": {
    "collapsed": false
   },
   "outputs": [],
   "source": [
    "### Visualize the softmax probabilities here.\n",
    "### Feel free to use as many code cells as needed.\n",
    "index = random.randint(0, len(X_test))\n",
    "image = X_test[index].squeeze()\n",
    "\n",
    "with tf.Session() as sess:\n",
    "    saver.restore(sess, tf.train.latest_checkpoint('.'))\n",
    "    print(sess.run(tf.nn.top_k(image, k = 3)))"
   ]
  },
  {
   "cell_type": "markdown",
   "metadata": {},
   "source": [
    "### Question 8\n",
    "\n",
    "*Use the model's softmax probabilities to visualize the **certainty** of its predictions, [`tf.nn.top_k`](https://www.tensorflow.org/versions/r0.12/api_docs/python/nn.html#top_k) could prove helpful here. Which predictions is the model certain of? Uncertain? If the model was incorrect in its initial prediction, does the correct prediction appear in the top k? (k should be 5 at most)*\n",
    "\n",
    "`tf.nn.top_k` will return the values and indices (class ids) of the top k predictions. So if k=3, for each sign, it'll return the 3 largest probabilities (out of a possible 43) and the correspoding class ids.\n",
    "\n",
    "Take this numpy array as an example:\n",
    "\n",
    "```\n",
    "# (5, 6) array\n",
    "a = np.array([[ 0.24879643,  0.07032244,  0.12641572,  0.34763842,  0.07893497,\n",
    "         0.12789202],\n",
    "       [ 0.28086119,  0.27569815,  0.08594638,  0.0178669 ,  0.18063401,\n",
    "         0.15899337],\n",
    "       [ 0.26076848,  0.23664738,  0.08020603,  0.07001922,  0.1134371 ,\n",
    "         0.23892179],\n",
    "       [ 0.11943333,  0.29198961,  0.02605103,  0.26234032,  0.1351348 ,\n",
    "         0.16505091],\n",
    "       [ 0.09561176,  0.34396535,  0.0643941 ,  0.16240774,  0.24206137,\n",
    "         0.09155967]])\n",
    "```\n",
    "\n",
    "Running it through `sess.run(tf.nn.top_k(tf.constant(a), k=3))` produces:\n",
    "\n",
    "```\n",
    "TopKV2(values=array([[ 0.34763842,  0.24879643,  0.12789202],\n",
    "       [ 0.28086119,  0.27569815,  0.18063401],\n",
    "       [ 0.26076848,  0.23892179,  0.23664738],\n",
    "       [ 0.29198961,  0.26234032,  0.16505091],\n",
    "       [ 0.34396535,  0.24206137,  0.16240774]]), indices=array([[3, 0, 5],\n",
    "       [0, 1, 4],\n",
    "       [0, 5, 1],\n",
    "       [1, 3, 5],\n",
    "       [1, 4, 3]], dtype=int32))\n",
    "```\n",
    "\n",
    "Looking just at the first row we get `[ 0.34763842,  0.24879643,  0.12789202]`, you can confirm these are the 3 largest probabilities in `a`. You'll also notice `[3, 0, 5]` are the corresponding indices."
   ]
  },
  {
   "cell_type": "markdown",
   "metadata": {},
   "source": [
    "**Answer:**"
   ]
  },
  {
   "cell_type": "markdown",
   "metadata": {},
   "source": [
    "> **Note**: Once you have completed all of the code implementations and successfully answered each question above, you may finalize your work by exporting the iPython Notebook as an HTML document. You can do this by using the menu above and navigating to  \\n\",\n",
    "    \"**File -> Download as -> HTML (.html)**. Include the finished document along with this notebook as your submission."
   ]
  },
  {
   "cell_type": "code",
   "execution_count": null,
   "metadata": {
    "collapsed": true
   },
   "outputs": [],
   "source": []
  }
 ],
 "metadata": {
  "anaconda-cloud": {},
  "kernelspec": {
   "display_name": "Python 3",
   "language": "python",
   "name": "python3"
  },
  "language_info": {
   "codemirror_mode": {
    "name": "ipython",
    "version": 3
   },
   "file_extension": ".py",
   "mimetype": "text/x-python",
   "name": "python",
   "nbconvert_exporter": "python",
   "pygments_lexer": "ipython3",
   "version": "3.5.2"
  },
  "widgets": {
   "state": {},
   "version": "1.1.2"
  }
 },
 "nbformat": 4,
 "nbformat_minor": 1
}
